{
 "cells": [
  {
   "cell_type": "code",
   "execution_count": 4,
   "metadata": {},
   "outputs": [],
   "source": [
    "import pandas as pd\n",
    "from pandera import DataFrameModel, Field, check_types, infer_schema, Check\n",
    "from pandera.typing import DataFrame, Series\n",
    "\n",
    "df = pd.read_csv(\"medical_cost.csv\")\n",
    "\n",
    "schema_script = infer_schema(df).to_script()\n",
    "\n",
    "with open(\"schema_med.py\", \"w\") as file:\n",
    "    file.write(schema_script)"
   ]
  },
  {
   "cell_type": "code",
   "execution_count": 3,
   "metadata": {},
   "outputs": [
    {
     "ename": "NameError",
     "evalue": "name 'schema' is not defined",
     "output_type": "error",
     "traceback": [
      "\u001b[0;31m---------------------------------------------------------------------------\u001b[0m",
      "\u001b[0;31mNameError\u001b[0m                                 Traceback (most recent call last)",
      "Cell \u001b[0;32mIn[3], line 1\u001b[0m\n\u001b[0;32m----> 1\u001b[0m \u001b[43mschema\u001b[49m\u001b[38;5;241m.\u001b[39mvalidate(df_heart, lazy\u001b[38;5;241m=\u001b[39m\u001b[38;5;28;01mTrue\u001b[39;00m)\n",
      "\u001b[0;31mNameError\u001b[0m: name 'schema' is not defined"
     ]
    }
   ],
   "source": [
    "# Sample DataFrame\n",
    "df_example = pd.DataFrame({\n",
    "    \"height_in_feet\": [6.5, 7, 6.1, 5.1, 4],\n",
    "    \"sex\": [\"M\", \"M\", \"F\", \"F\", \"F\"]\n",
    "})\n",
    "\n",
    "# Define the schema with the hypothesis test\n",
    "schema = DataFrameSchema({\n",
    "    \"height_in_feet\": Column(\n",
    "        float, [\n",
    "            Hypothesis.two_sample_ttest(\n",
    "                sample1=\"M\",\n",
    "                sample2=\"F\",\n",
    "                groupby=\"sex\",\n",
    "                relationship=\"greater_than\",\n",
    "                alpha=0.05,\n",
    "                equal_var=True\n",
    "            ),\n",
    "        ]\n",
    "    ),\n",
    "    \"sex\": Column(str)\n",
    "})\n",
    "\n",
    "# Validate the DataFrame against the schema\n",
    "try:\n",
    "    schema.validate(df_example)\n",
    "except pa.errors.SchemaError as exc:\n",
    "    print(exc)"
   ]
  },
  {
   "cell_type": "markdown",
   "metadata": {},
   "source": [
    "Maneira de gerar um schema usando typing do Pydantic"
   ]
  }
 ],
 "metadata": {
  "kernelspec": {
   "display_name": "Python 3",
   "language": "python",
   "name": "python3"
  },
  "language_info": {
   "codemirror_mode": {
    "name": "ipython",
    "version": 3
   },
   "file_extension": ".py",
   "mimetype": "text/x-python",
   "name": "python",
   "nbconvert_exporter": "python",
   "pygments_lexer": "ipython3",
   "version": "3.9.18"
  }
 },
 "nbformat": 4,
 "nbformat_minor": 2
}
